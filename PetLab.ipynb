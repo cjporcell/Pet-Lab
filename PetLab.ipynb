{
  "nbformat": 4,
  "nbformat_minor": 0,
  "metadata": {
    "colab": {
      "name": "PetLab.ipynb",
      "provenance": [],
      "authorship_tag": "ABX9TyOcp2pJ6RoRM+tQ0LkoVDmb",
      "include_colab_link": true
    },
    "kernelspec": {
      "name": "python3",
      "display_name": "Python 3"
    }
  },
  "cells": [
    {
      "cell_type": "markdown",
      "metadata": {
        "id": "view-in-github",
        "colab_type": "text"
      },
      "source": [
        "<a href=\"https://colab.research.google.com/github/cjporcell/Pet-Lab/blob/main/PetLab.ipynb\" target=\"_parent\"><img src=\"https://colab.research.google.com/assets/colab-badge.svg\" alt=\"Open In Colab\"/></a>"
      ]
    },
    {
      "cell_type": "markdown",
      "metadata": {
        "id": "MNT1S_Loo-H-"
      },
      "source": [
        "For this lab I was given a certain scenario where I had just started working at a local pet shop. I was given a set of entities and transactions to record into entity relation tables. The tables are shown below. "
      ]
    },
    {
      "cell_type": "markdown",
      "metadata": {
        "id": "7nfTzg1Yt4ey"
      },
      "source": [
        "![petlabtable](https://raw.githubusercontent.com/cjporcell/Pet-Lab/main/petlabtable.PNG)"
      ]
    }
  ]
}